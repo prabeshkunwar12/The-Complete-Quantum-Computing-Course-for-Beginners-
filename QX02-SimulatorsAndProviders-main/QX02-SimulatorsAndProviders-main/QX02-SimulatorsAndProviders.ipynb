{
 "cells": [
  {
   "cell_type": "code",
   "execution_count": 3,
   "metadata": {},
   "outputs": [],
   "source": [
    "from qiskit import *\n",
    "from qiskit_ibm_runtime import QiskitRuntimeService\n",
    "import json"
   ]
  },
  {
   "cell_type": "code",
   "execution_count": 12,
   "metadata": {},
   "outputs": [],
   "source": [
    "with open(\"cred.json\") as f:\n",
    "    creds = json.load(f)\n",
    "QiskitRuntimeService().save_account(token=creds[\"token\"], instance=creds[\"instance\"], overwrite=True)"
   ]
  },
  {
   "cell_type": "code",
   "execution_count": 19,
   "metadata": {},
   "outputs": [
    {
     "name": "stdout",
     "output_type": "stream",
     "text": [
      "ibm_brisbane: 3656 jobs in the queue & 127 qubits\n",
      "ibm_torino: 422 jobs in the queue & 133 qubits\n"
     ]
    }
   ],
   "source": [
    "service = QiskitRuntimeService()\n",
    "for bend in service.backends(simulator=False, operational=True):\n",
    "    print(f\"{bend.name}: {bend.status().pending_jobs} jobs in the queue & {bend.num_qubits} qubits\")"
   ]
  }
 ],
 "metadata": {
  "kernelspec": {
   "display_name": ".venv (3.13.3)",
   "language": "python",
   "name": "python3"
  },
  "language_info": {
   "codemirror_mode": {
    "name": "ipython",
    "version": 3
   },
   "file_extension": ".py",
   "mimetype": "text/x-python",
   "name": "python",
   "nbconvert_exporter": "python",
   "pygments_lexer": "ipython3",
   "version": "3.13.3"
  }
 },
 "nbformat": 4,
 "nbformat_minor": 4
}
